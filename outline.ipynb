{
 "cells": [
  {
   "cell_type": "markdown",
   "id": "1c642d9c",
   "metadata": {},
   "source": [
    "# Project Plan\n",
    "\n",
    "We know that we are aiming to create a predictive model that will determine when a customer is likely to end their service. In order to do this, before we look at the model we can likely guess that our best method to do this will be to create a model that classifies users as having a plan that was cancelled compared to long-standing users and will predict based on their data when a user is likely to cancel.\n",
    "\n",
    "As a whole, the outline of the project as understood will be to, in order:"
   ]
  },
  {
   "cell_type": "markdown",
   "id": "b18e4daf",
   "metadata": {},
   "source": [
    "## Perform Data Preprocessing\n",
    "    \n",
    "* Get a grasp of what our four data frames look like\n",
    "    * Check for duplicates\n",
    "    * Check for missing values\n",
    "    * Check for troubling data types\n",
    "\n",
    "* Based on the results the necessary preprocessing could be very short or more complicated\n",
    "    * Remove duplicates\n",
    "    * Deal with missing values, either by trying to fill them or if there is no practical way to do so, remove them\n",
    "    * Convert data into proper types\n",
    "    * If necessary, encode the data frame for smoother analysis\n",
    "    \n",
    "* We may wish to combine all four of our datasets into a single data frame"
   ]
  },
  {
   "cell_type": "markdown",
   "id": "c9e6fea8",
   "metadata": {},
   "source": [
    "## Perform Exploratory Data Analysis\n",
    "\n",
    "* Visualize the data\n",
    "    * Check across specific metrics that at present are not clear but that can be determined after preprocessing\n",
    "    * Generally a histogram, box plot, and correlation matrix will be sufficient\n",
    "* Check for outliers\n",
    "    * Determine which of our features are likely to have a connection to our target and take a closer look at those\n",
    "* If encoding is deemed useful, we could check our class imbalance\n",
    "    * If our classes are sufficiently imbalanced, we may wish to find an ideal threshold when building our models to achieve a higher accuracy"
   ]
  },
  {
   "cell_type": "markdown",
   "id": "59c1f240",
   "metadata": {},
   "source": [
    "## Train the Model\n",
    "\n",
    "* The project can be completed using a supervised learning model\n",
    "    * Before we begin training, we should do both a features/target split (our target is the 'EndDate' column)\n",
    "    * We also will want to split our data for testing purposes\n",
    "        * We will do a 60/20/20 split with 60% of the data as a training set, 20% as a validation set, and 20% as the test set\n",
    "* Based on our outline, we will want an AUC-ROC of at least 0.75, but that is the bare minimum\n",
    "    * We should try to get as high as possible, but will not expect to be able to improve much beyond 0.88\n",
    "* To get an idea of the time it might take processing the hyperparameter tuning, we should choose some different models\n",
    "    * Dummy model\n",
    "    * Decision Tree\n",
    "    * Linear Regression\n",
    "    * Random Forest\n",
    "    * CatBoost\n",
    "    * Light GBM and XGBoost would also be good to test, but since gradient boosting models take longer to train we will determine that this will only be considered worth trying if the other models are performing poorly"
   ]
  },
  {
   "cell_type": "markdown",
   "id": "923eeb35",
   "metadata": {},
   "source": [
    "## Test the Model\n",
    "\n",
    "* Check the model against the test set for AUC-ROC and accuracy\n",
    "    * If necessary, the model might need some additional tuning if it performed well against the validation set but poorly with the test set\n",
    "    * We may need to use a larger training set if the model is performing particularly poorly against the test set, as a training set of 60% is already a bit low. We could try a 70/15/15."
   ]
  },
  {
   "cell_type": "markdown",
   "id": "b0ab68a4",
   "metadata": {},
   "source": [
    "## Draw Conclusions\n",
    "\n",
    "We will have a better idea of what exactly our conclusions will be after the project's completion so this section will be left somewhat sparse for the outline. However, we will have a list of targets that should be met before the project is considered complete:\n",
    "\n",
    "- [ ] The code is error free and arranged in order of execution.\n",
    "- [ ] Documentation is present directly preceding all code explaining its purpose.\n",
    "- [ ] The data has been downloaded and prepared.\n",
    "- [ ] Exploratory data analysis with graphical representation has been performed.\n",
    "- [ ] The models have been trained.\n",
    "- [ ] A final model has been created with an AUC-ROC of at least 0.75"
   ]
  },
  {
   "cell_type": "code",
   "execution_count": null,
   "id": "d8428576",
   "metadata": {},
   "outputs": [],
   "source": []
  }
 ],
 "metadata": {
  "kernelspec": {
   "display_name": "Python 3 (ipykernel)",
   "language": "python",
   "name": "python3"
  },
  "language_info": {
   "codemirror_mode": {
    "name": "ipython",
    "version": 3
   },
   "file_extension": ".py",
   "mimetype": "text/x-python",
   "name": "python",
   "nbconvert_exporter": "python",
   "pygments_lexer": "ipython3",
   "version": "3.9.5"
  },
  "toc": {
   "base_numbering": 1,
   "nav_menu": {},
   "number_sections": true,
   "sideBar": true,
   "skip_h1_title": true,
   "title_cell": "Table of Contents",
   "title_sidebar": "Contents",
   "toc_cell": false,
   "toc_position": {},
   "toc_section_display": true,
   "toc_window_display": false
  }
 },
 "nbformat": 4,
 "nbformat_minor": 5
}
